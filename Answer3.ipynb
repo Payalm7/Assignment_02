{
 "cells": [
  {
   "cell_type": "code",
   "execution_count": 5,
   "id": "1edbfba3-a028-4c86-a7c0-2610bf3adcc8",
   "metadata": {},
   "outputs": [
    {
     "name": "stdout",
     "output_type": "stream",
     "text": [
      "True\n",
      "False\n",
      "False\n",
      "False\n"
     ]
    }
   ],
   "source": [
    "#Answer(3).\n",
    "#and truth table:\n",
    "a=True\n",
    "b=True\n",
    "print(a and b)\n",
    "a=True\n",
    "b=False\n",
    "print(a and b)\n",
    "a=False\n",
    "b=True\n",
    "print(a and b)\n",
    "a=False\n",
    "b=False\n",
    "print(a and b)"
   ]
  },
  {
   "cell_type": "code",
   "execution_count": 7,
   "id": "6be1f1d6-1cfc-42e6-9f89-7a93862706a0",
   "metadata": {},
   "outputs": [
    {
     "name": "stdout",
     "output_type": "stream",
     "text": [
      "True\n",
      "True\n",
      "True\n",
      "False\n"
     ]
    }
   ],
   "source": [
    "#or truth table:\n",
    "a=True\n",
    "b=True\n",
    "print(a or b)\n",
    "a=True\n",
    "b=False\n",
    "print(a or b)\n",
    "a=False\n",
    "b=True\n",
    "print(a or b)\n",
    "a=False\n",
    "b=False\n",
    "print(a or b)\n"
   ]
  },
  {
   "cell_type": "code",
   "execution_count": 9,
   "id": "b898177f-ab20-4c05-8a93-097e0adb9bef",
   "metadata": {},
   "outputs": [
    {
     "name": "stdout",
     "output_type": "stream",
     "text": [
      "False\n",
      "True\n"
     ]
    }
   ],
   "source": [
    "#not truth table:\n",
    "a=True\n",
    "print(not a)\n",
    "b=False\n",
    "print(not b)\n",
    "\n",
    "\n",
    "\n",
    "\n",
    "\n",
    "\n",
    "\n",
    "\n",
    "\n"
   ]
  },
  {
   "cell_type": "code",
   "execution_count": null,
   "id": "8be3d191-3b03-429d-a129-3962de73cd5c",
   "metadata": {},
   "outputs": [],
   "source": []
  }
 ],
 "metadata": {
  "kernelspec": {
   "display_name": "Python 3 (ipykernel)",
   "language": "python",
   "name": "python3"
  },
  "language_info": {
   "codemirror_mode": {
    "name": "ipython",
    "version": 3
   },
   "file_extension": ".py",
   "mimetype": "text/x-python",
   "name": "python",
   "nbconvert_exporter": "python",
   "pygments_lexer": "ipython3",
   "version": "3.12.4"
  }
 },
 "nbformat": 4,
 "nbformat_minor": 5
}
